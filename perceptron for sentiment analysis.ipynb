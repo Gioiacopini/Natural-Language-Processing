{
 "cells": [
  {
   "cell_type": "markdown",
   "metadata": {},
   "source": [
    "# Using the Perceptron Algorightm to Extract Sentiment from Movie Reviews\n",
    "\n",
    "This project is part of the course work for [Dr. Nikos Altras](https://www.sheffield.ac.uk/dcs/people/academic/naletras/profile)'s class Natural Language processing.\n",
    "\n",
    "The goal of this project is to implement the **binary perceptron algorithm** and to apply it to sentiment analysis of movie reviews. The data set used for this analysis can be found [here](http://www.cs.\n",
    "cornell.edu/people/pabo/movie-review-data/review_polarity.tar.gz) and it contains 1000 positive and 1000 negative movie reviews. \n",
    "\n",
    "This report is structured as follow: \n",
    "* first, I will briefly introduce the perceptron algorithm and explain how it works. \n",
    "* Second, I will explain how the algorithm was used to extract the sentiment of movie reviews. \n",
    "* Last, I will program the program and discuss my analysis and results.\n"
   ]
  },
  {
   "cell_type": "markdown",
   "metadata": {},
   "source": [
    "### The Perceptron Algorithm\n",
    "\n",
    "The perceptron is a classic learning algorithm for neural model of learning and it is used for learning features’ weights. The algorithm has two main characteristics:\n",
    "\n",
    "*  It is online: This means that instead of considering the entire data set at once, the algorithm considers and processes one instance at a time before moving on to the next one.\n",
    "*  It is error based: This means that the algorithm learns only when it is wrong. In other words, if the algorithm is doing well, it does not update its parameters. The parameters are updated only when the algorithm is wrong.\n",
    "\n",
    "\n",
    "The algorithm has a training and a testing phase. The training phase starts by assigning the value of zero to each feature weight. This zero weight vector, along with the labeled training set, is fed into the perceptron training algorithm. For any given example of the training set, the algorithm makes a prediction using a prediction function and checks if the prediction is correct. If it is, it does nothing. If it is wrong, the algorithm changes the parameters (in this case the feature weights) in such a way that it would be right next time around in the same example. It then goes to the next example, repeats the procedure, and continues until the end of the data set. At this point the algorithm will loop back around for a pre-specified number of iterations. After the multiple passes through the data set, the algorithm returns a vector of updated weights.\n",
    "\n",
    "The performance of the algorithm is assessed in the testing phase. This time, the algorithm will use the updated features weights returned in the training phase and make prediction over an unseen data set. Accuracy is then returned by calculating the number of correctly classified instances over the the total number of examples in the data set.\n"
   ]
  },
  {
   "cell_type": "markdown",
   "metadata": {},
   "source": [
    "### Perceptron to Predict Sentiment of Movie Reviews\n",
    "\n",
    "Each review in the data set is labelled (+1) when positive and (-1) when negative. In this specific case, in its training phase, the perceptron aims at updating the weight of each word that make up the movie review.\n",
    "The idea is that each review is made of a selection of words. Each word has a weight and a frequency. The score of a word is its weight multiplied by its frequency. The overall score of a review is made up of the sum of each score of each word in the review.\n",
    "\n",
    "To make a prediction, the algorithm calculates the score for each review and uses the sign function (sign(score)) to return +1 if the score is positive or -1 if the score is negative. The training algorithm will use these predictions to update the weight of each word. The testing algorithm assesses whether the updated weights make a correct prediction on unseen data or not."
   ]
  },
  {
   "cell_type": "markdown",
   "metadata": {},
   "source": [
    "### Model the Perceptron Algorithm"
   ]
  },
  {
   "cell_type": "code",
   "execution_count": 2,
   "metadata": {},
   "outputs": [],
   "source": [
    "# required packages\n",
    "import os\n",
    "import re\n",
    "from collections import Counter\n",
    "import numpy as np\n",
    "from random import shuffle\n",
    "from random import seed\n",
    "import matplotlib.pyplot as plt\n",
    "from operator import itemgetter\n",
    "from datetime import datetime"
   ]
  },
  {
   "cell_type": "code",
   "execution_count": 9,
   "metadata": {
    "scrolled": true
   },
   "outputs": [],
   "source": [
    "\n",
    "counter_all = []\n",
    "list_of_dictionaries = []\n",
    "\n",
    "# create variables with path for positive and negative files\n",
    "pospath = \"./review_polarity/txt_sentoken/pos\"\n",
    "negpath = \"./review_polarity/txt_sentoken/neg\"\n",
    "\n",
    "\n",
    "# function that reads the data from the directory and returns a list of text.\n",
    "def read_text(filepath):\n",
    "    text_list = []\n",
    "    for file in os.listdir(filepath):\n",
    "        # generate the full file path\n",
    "        fp = os.path.join(filepath, file)\n",
    "        # append in list paths\n",
    "        with open(fp, \"r\") as infile:\n",
    "            # read file\n",
    "            text = infile.read()\n",
    "            text = text.lower()\n",
    "            text_list.append(text)\n",
    "    return text_list\n",
    "\n",
    "\n",
    "# function that generates ngrams.\n",
    "# function taken from here: http://www.albertauyeung.com/post/generating-ngrams-python/\n",
    "def generate_ngrams(s, n=1):\n",
    "    # Replace all none alphanumeric characters with spaces\n",
    "    s = re.sub(r'[^a-zA-Z0-9\\s]', ' ', s)\n",
    "\n",
    "    # Break sentence in the token, remove empty tokens\n",
    "    tokens = [token for token in s.split(\" \") if token != \"\"]\n",
    "\n",
    "    # Use the zip function to help us generate n-grams\n",
    "    # Concatentate the tokens into ngrams and return\n",
    "    ngrams = zip(*[tokens[i:] for i in range(n)])\n",
    "    return [\" \".join(ngram) for ngram in ngrams]\n",
    "\n",
    "\n",
    "# function that generate word frequencies\n",
    "def get_BOW(label, n=1):\n",
    "    # select the file path depending on the label\n",
    "    if label == 1:\n",
    "        filepath = pospath\n",
    "    else:\n",
    "        filepath = negpath\n",
    "\n",
    "    repository = []\n",
    "    # read data and return text list\n",
    "    text_list = read_text(filepath)\n",
    "\n",
    "    # for each text in the list,\n",
    "    for text in text_list:\n",
    "        # create empty dictionary\n",
    "        dictionary = {}\n",
    "\n",
    "        # create bag of words with counter\n",
    "        counter = Counter(generate_ngrams(text, n))\n",
    "\n",
    "        # append word counter to the dictionary\n",
    "        dictionary['words'] = counter\n",
    "\n",
    "        # label text and attach to dictionary\n",
    "        dictionary['label'] = label\n",
    "\n",
    "        # append counter to list of counters\n",
    "        counter_all.append(counter)\n",
    "        repository.append(counter)\n",
    "\n",
    "        # append dictionary to list of all dictionaries\n",
    "        list_of_dictionaries.append(dictionary.copy())\n",
    "    return repository\n",
    "\n",
    "\n",
    "# function that generates zero weights\n",
    "\n",
    "def zero_weights(train_list):\n",
    "    w_dict = {}\n",
    "    # for each counter in the list,\n",
    "    for BOW in train_list:\n",
    "        # for each word, count in each counter\n",
    "        for word in BOW['words']:\n",
    "            # take the word and assign it a weight of 0\n",
    "            w = {word: 0.0}\n",
    "            # update each word into the empty w_dict\n",
    "            w_dict.update(w)\n",
    "    return w_dict\n",
    "\n",
    "\n",
    "# function that calculates the accuracy of the binary perceptron/test function\n",
    "# the imput of this dunction will be the test set and the updated weights.\n",
    "# the test set is given in the form of a list of dictionaries containing\n",
    "# labelled test text\n",
    "\n",
    "def binary_perceptron(dict_list, W):\n",
    "    correct = 0.0\n",
    "    # for each element of the list\n",
    "    for dictionary in dict_list:\n",
    "        y = dictionary['label']\n",
    "        score = 0.0\n",
    "        # for each work in the element\n",
    "        for word in dictionary['words']:\n",
    "            # calculate word score\n",
    "            score += dictionary['words'][word] * W[word]\n",
    "            # print(score)\n",
    "            # print(\"positive\") if score >= 0.0 else print(\"negative\")\n",
    "\n",
    "        # make score either positive or negative\n",
    "        score = np.sign(score)\n",
    "        if score == 0:\n",
    "            score = 1\n",
    "        if score == y:\n",
    "            correct += 1\n",
    "        else:\n",
    "            continue\n",
    "    # calculate correct instances over all instances\n",
    "    accuracy = correct / (int(len(dict_list)))\n",
    "    # return accuracy\n",
    "    return accuracy\n",
    "\n",
    "\n",
    "# function that updates the weights / trains the model\n",
    "# the imput of the function will be the training dataset and the zero weights dictionary\n",
    "def update_weights(train_list, W):\n",
    "    # for each text in the list\n",
    "    for dictionary in train_list:\n",
    "        y = dictionary['label']\n",
    "        y_hat = 0.0\n",
    "        # for each word in the text\n",
    "        for word in dictionary['words']:\n",
    "            # calculate prediction score for the word\n",
    "            y_hat += dictionary['words'][word] * W[word]\n",
    "\n",
    "        # make the prediction either 1 or -1\n",
    "        if y_hat >= 0:\n",
    "            y_hat = 1\n",
    "        else:\n",
    "            y_hat = -1\n",
    "\n",
    "        # if the prediction is different than the actual label,\n",
    "        if y_hat != y:\n",
    "            # if the actual label is 1\n",
    "            if y == 1:\n",
    "                # update the weight by adding the word frequency to it\n",
    "                for word in dictionary['words']:\n",
    "                    W[word] += dictionary['words'][word]\n",
    "            # else subtract\n",
    "            else:\n",
    "                for word in dictionary['words']:\n",
    "                    W[word] -= dictionary['words'][word]\n",
    "    # return the updated weights\n",
    "    return W\n",
    "\n",
    "\n",
    "# function that updates the weights while shuffling the data\n",
    "def update_weights_shuffle(dict_list, W):\n",
    "    seed(3333)  # set seed so that results are reproducible\n",
    "    shuffle(dict_list)  # shuffle\n",
    "    shuffled = update_weights(dict_list, W)  # update\n",
    "    return shuffled\n",
    "\n",
    "\n",
    "# function that updates the weights from shuffled data and with multiple passes\n",
    "def update_weights_iterations(dict_list, W, iterations=10):\n",
    "    for i in range(iterations + 1):\n",
    "        shuffled = update_weights_shuffle(dict_list, W)\n",
    "    return shuffled\n",
    "\n",
    "\n",
    "# this function returns a list of accuracy after each iteration\n",
    "def print_accuracy(train_set, test_set, W, iterations):\n",
    "    accuracies = []\n",
    "    for i in range(iterations + 1):\n",
    "        update = update_weights_shuffle(train_set, W)\n",
    "        accuracy = binary_perceptron(test_set, update)\n",
    "        accuracies.append(accuracy)\n",
    "    return accuracies\n",
    "\n",
    "\n",
    "# this function return the average weight after n iterations\n",
    "def get_average_weights(dict_list, W, iterations=10):\n",
    "    # create list of dictionaries\n",
    "    ws = []\n",
    "    for i in range(iterations + 1):\n",
    "        shuffled = update_weights_shuffle(dict_list, W)\n",
    "        # once the wrights are updated, append them to the list of dictionaries\n",
    "        ws.append(shuffled.copy())\n",
    "\n",
    "    # take average of values of dictionaries from the list\n",
    "    # code from stackoverflow\n",
    "    # https://stackoverflow.com/questions/34139512/average-value-in-multiple-dictionaries-based-on-key-in-python\n",
    "    sums = Counter()\n",
    "    counters = Counter()\n",
    "    for itemset in ws:\n",
    "        sums.update(itemset)\n",
    "        counters.update(itemset.keys())\n",
    "\n",
    "    avg = {x: float(sums[x]) / counters[x] for x in sums.keys()}\n",
    "\n",
    "    # return average\n",
    "    return avg\n",
    "\n",
    "def initialize(n=1):\n",
    "    pos = get_BOW(label = 1, n = 1)\n",
    "    neg = get_BOW(label = -1, n= 1)\n",
    "    return pos, neg"
   ]
  },
  {
   "cell_type": "markdown",
   "metadata": {},
   "source": [
    "#### Algorithm Execution\n",
    "\n",
    "* Read, label and tokienize movie reviews depending on the model used (unigram, bigram or trigram). "
   ]
  },
  {
   "cell_type": "code",
   "execution_count": 12,
   "metadata": {
    "scrolled": false
   },
   "outputs": [
    {
     "name": "stdout",
     "output_type": "stream",
     "text": [
      "type 1 for unigrams, 2 for bigrams, 3 for trigrams1\n"
     ]
    }
   ],
   "source": [
    "pos_BOW, neg_BOW = initialize( n = int(input('type 1 for unigrams, 2 for bigrams, 3 for trigrams')))"
   ]
  },
  {
   "cell_type": "markdown",
   "metadata": {},
   "source": [
    "* assign a weight of zero to each word in the corpus using the function declared above. I want to check that if i run the perceptron model, I will onyl get 50% accuracy"
   ]
  },
  {
   "cell_type": "code",
   "execution_count": 13,
   "metadata": {
    "scrolled": true
   },
   "outputs": [
    {
     "name": "stdout",
     "output_type": "stream",
     "text": [
      "Accuracy Score with zero weights is:  50.0 %\n",
      "\n"
     ]
    }
   ],
   "source": [
    "# create dictionary of zero weights\n",
    "zero_weight = zero_weights(list_of_dictionaries)\n",
    "# get accuracy with 0 weights\n",
    "pred = binary_perceptron(list_of_dictionaries, zero_weight)\n",
    "# check accuracy with 0 weights\n",
    "print('Accuracy Score with zero weights is: ', str(pred * 100), \"%\\n\")"
   ]
  },
  {
   "cell_type": "markdown",
   "metadata": {},
   "source": [
    "* It is now time to update the weights of the words to improve our accuracy. First, we need to create a test set and a training set. "
   ]
  },
  {
   "cell_type": "code",
   "execution_count": 14,
   "metadata": {},
   "outputs": [],
   "source": [
    "# merge training positive and negative dictionaries to form traning and test set.\n",
    "train_set = list_of_dictionaries[0:800] + list_of_dictionaries[1000:1800]\n",
    "test_set = list_of_dictionaries[800:1000] + list_of_dictionaries[1800:2000]"
   ]
  },
  {
   "cell_type": "markdown",
   "metadata": {},
   "source": [
    "* Let's update the word weights of the training set and check if accuracy improved. Here weights were updated by passing into the algorithm the training instances once and in the order they were sampled (first 800 were positive, last 800 were negative reviews). "
   ]
  },
  {
   "cell_type": "code",
   "execution_count": 15,
   "metadata": {},
   "outputs": [
    {
     "name": "stdout",
     "output_type": "stream",
     "text": [
      "Accuracy Score when weights are updated is:  50.0 %\n",
      "\n"
     ]
    }
   ],
   "source": [
    "# update the weights\n",
    "new_W = update_weights(train_set, zero_weight)\n",
    "# check accuracy\n",
    "pred_new_W = binary_perceptron(test_set, new_W)\n",
    "print('Accuracy Score when weights are updated is: ', str(pred_new_W * 100), '%\\n')"
   ]
  },
  {
   "cell_type": "markdown",
   "metadata": {},
   "source": [
    "* Accuracy remained at 50% since the algorithm did not update for the first 800 observations. Accuracy might improve if we shuffle the training instances before updating them. "
   ]
  },
  {
   "cell_type": "code",
   "execution_count": 16,
   "metadata": {
    "scrolled": true
   },
   "outputs": [
    {
     "name": "stdout",
     "output_type": "stream",
     "text": [
      "Accuracy score with shuffled data is:  63.5 %\n",
      "\n"
     ]
    }
   ],
   "source": [
    "new_W_SH = update_weights_shuffle(train_set,\n",
    "                                  zero_weights(list_of_dictionaries))  # update the weights with shuffle function\n",
    "pred_new_W_sh = binary_perceptron(test_set, new_W_SH)  # check accuracy\n",
    "print('Accuracy score with shuffled data is: ', str(pred_new_W_sh * 100), '%\\n')\n"
   ]
  },
  {
   "cell_type": "markdown",
   "metadata": {},
   "source": [
    "* Accuracy level increased to 63.5 percent. Let's improve the algorithm further by introducting iterations. In this case, the training instances will be shuffled and updated 15 times. "
   ]
  },
  {
   "cell_type": "code",
   "execution_count": 17,
   "metadata": {
    "scrolled": true
   },
   "outputs": [
    {
     "name": "stdout",
     "output_type": "stream",
     "text": [
      "Accuracy score with shuffled data and calculated over  15  iterations:  83.5 %\n",
      "\n"
     ]
    }
   ],
   "source": [
    "\n",
    "iterations = 15  # update w  with 15 iterations\n",
    "new_W_iter = update_weights_iterations(train_set, zero_weights(list_of_dictionaries), iterations)\n",
    "pred_new_W_iter = binary_perceptron(test_set, new_W_iter)  # check accuracy\n",
    "print(\n",
    "'Accuracy score with shuffled data and calculated over ', str(iterations), ' iterations: ', str(pred_new_W_iter * 100),\n",
    "'%\\n')\n"
   ]
  },
  {
   "cell_type": "markdown",
   "metadata": {},
   "source": [
    "* Accuracy improved considerably. The graph below shows the learning progress of the algorithm at each iteration"
   ]
  },
  {
   "cell_type": "code",
   "execution_count": 18,
   "metadata": {
    "scrolled": true
   },
   "outputs": [
    {
     "data": {
      "image/png": "[encoded data removed]",
      "text/plain": [
       "<Figure size 432x288 with 1 Axes>"
      ]
     },
     "metadata": {},
     "output_type": "display_data"
    }
   ],
   "source": [
    "\n",
    "# make grath to show the learning process at each iteration\n",
    "x = list(range(iterations + 1))  # put iterations on the x axis\n",
    "y = print_accuracy(train_set, test_set, zero_weights(list_of_dictionaries),\n",
    "                   iterations)  # put accuracy scores on the y axis\n",
    "## plot the accuracy per iteration.\n",
    "fig, ax = plt.subplots()\n",
    "plt.xlabel('iterations')\n",
    "plt.ylabel('accuracy score')\n",
    "plt.title('Accuracy increases as the number of iterations increases')\n",
    "plt.grid(True)\n",
    "ax.plot(x, y, '-', lw=2)\n",
    "\n",
    "# save image in directory\n",
    "directory = './review_polarity/txt_sentoken/'\n",
    "plt.savefig(directory + 'image.png', dpi=300)\n",
    "# show graph\n",
    "plt.show()\n",
    "\n"
   ]
  },
  {
   "cell_type": "markdown",
   "metadata": {},
   "source": [
    "* Other than using the last value of the weights after 15 iterations, we can make predictions with the average of each word's score."
   ]
  },
  {
   "cell_type": "code",
   "execution_count": 19,
   "metadata": {
    "scrolled": false
   },
   "outputs": [
    {
     "name": "stdout",
     "output_type": "stream",
     "text": [
      "Accuracy Score with weights averaged over  15  iterations:  84.75 % \n",
      "\n"
     ]
    }
   ],
   "source": [
    "new_W_av = get_average_weights(train_set, zero_weights(list_of_dictionaries), iterations)  # update w\n",
    "pred_new_W_avg = binary_perceptron(test_set,\n",
    "                                   new_W_av)  # make new prediction and check for accuracy\n",
    "print('Accuracy Score with weights averaged over ', str(iterations), ' iterations: ', str(pred_new_W_avg * 100), '% \\n')\n"
   ]
  },
  {
   "cell_type": "markdown",
   "metadata": {},
   "source": [
    "* When we average the words' weights, the model is accurate 84.75% of the time. "
   ]
  },
  {
   "cell_type": "markdown",
   "metadata": {},
   "source": [
    "* finally, we can check the algorithm is working correctly by returning the top most positive words and the top most negative words. "
   ]
  },
  {
   "cell_type": "code",
   "execution_count": 21,
   "metadata": {},
   "outputs": [
    {
     "name": "stdout",
     "output_type": "stream",
     "text": [
      "Top 10 positive Words:  [('well', 183.625), ('most', 156.625), ('seen', 156.4375), ('see', 153.5), ('quite', 152.8125), ('great', 149.5625), ('fun', 140.0), ('american', 135.0625), ('also', 133.5625), ('best', 128.6875)] \n",
      "\n",
      "Top 10 negative words:  [('bad', -341.125), ('only', -211.5), ('worst', -193.5), ('plot', -178.25), ('could', -168.875), ('script', -151.8125), ('boring', -150.8125), ('supposed', -141.875), ('any', -140.4375), ('looks', -132.875)] \n",
      "\n"
     ]
    }
   ],
   "source": [
    "# what are the most positive and the most negative words?\n",
    "positive = sorted(new_W_av.items(), key=itemgetter(1))[::-1]\n",
    "negative = sorted(new_W_av.items(), key=itemgetter(1))\n",
    "print('Top 10 positive Words: ', positive[:10], '\\n')\n",
    "print('Top 10 negative words: ', negative[:10], '\\n')\n"
   ]
  }
 ],
 "metadata": {
  "kernelspec": {
   "display_name": "Python 3",
   "language": "python",
   "name": "python3"
  },
  "language_info": {
   "codemirror_mode": {
    "name": "ipython",
    "version": 3
   },
   "file_extension": ".py",
   "mimetype": "text/x-python",
   "name": "python",
   "nbconvert_exporter": "python",
   "pygments_lexer": "ipython3",
   "version": "3.6.8"
  }
 },
 "nbformat": 4,
 "nbformat_minor": 2
}
